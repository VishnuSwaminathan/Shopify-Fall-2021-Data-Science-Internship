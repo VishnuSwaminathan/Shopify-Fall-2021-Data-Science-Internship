{
 "cells": [
  {
   "cell_type": "markdown",
   "id": "5dbad86c",
   "metadata": {},
   "source": [
    "# QUESTION 1"
   ]
  },
  {
   "cell_type": "code",
   "execution_count": 298,
   "id": "18c47375",
   "metadata": {},
   "outputs": [],
   "source": [
    "#Import library\n",
    "import csv\n",
    "import pandas as pd\n",
    "import numpy as np\n",
    "import matplotlib.pyplot as plt\n",
    "import statistics"
   ]
  },
  {
   "cell_type": "code",
   "execution_count": 299,
   "id": "c862a7fc",
   "metadata": {
    "scrolled": false
   },
   "outputs": [
    {
     "data": {
      "text/html": [
       "<div>\n",
       "<style scoped>\n",
       "    .dataframe tbody tr th:only-of-type {\n",
       "        vertical-align: middle;\n",
       "    }\n",
       "\n",
       "    .dataframe tbody tr th {\n",
       "        vertical-align: top;\n",
       "    }\n",
       "\n",
       "    .dataframe thead th {\n",
       "        text-align: right;\n",
       "    }\n",
       "</style>\n",
       "<table border=\"1\" class=\"dataframe\">\n",
       "  <thead>\n",
       "    <tr style=\"text-align: right;\">\n",
       "      <th></th>\n",
       "      <th>order_id</th>\n",
       "      <th>shop_id</th>\n",
       "      <th>user_id</th>\n",
       "      <th>order_amount</th>\n",
       "      <th>total_items</th>\n",
       "      <th>payment_method</th>\n",
       "      <th>created_at</th>\n",
       "    </tr>\n",
       "  </thead>\n",
       "  <tbody>\n",
       "    <tr>\n",
       "      <th>0</th>\n",
       "      <td>1</td>\n",
       "      <td>53</td>\n",
       "      <td>746</td>\n",
       "      <td>224</td>\n",
       "      <td>2</td>\n",
       "      <td>cash</td>\n",
       "      <td>2017-03-13 12:36:56</td>\n",
       "    </tr>\n",
       "    <tr>\n",
       "      <th>1</th>\n",
       "      <td>2</td>\n",
       "      <td>92</td>\n",
       "      <td>925</td>\n",
       "      <td>90</td>\n",
       "      <td>1</td>\n",
       "      <td>cash</td>\n",
       "      <td>2017-03-03 17:38:52</td>\n",
       "    </tr>\n",
       "    <tr>\n",
       "      <th>2</th>\n",
       "      <td>3</td>\n",
       "      <td>44</td>\n",
       "      <td>861</td>\n",
       "      <td>144</td>\n",
       "      <td>1</td>\n",
       "      <td>cash</td>\n",
       "      <td>2017-03-14 4:23:56</td>\n",
       "    </tr>\n",
       "    <tr>\n",
       "      <th>3</th>\n",
       "      <td>4</td>\n",
       "      <td>18</td>\n",
       "      <td>935</td>\n",
       "      <td>156</td>\n",
       "      <td>1</td>\n",
       "      <td>credit_card</td>\n",
       "      <td>2017-03-26 12:43:37</td>\n",
       "    </tr>\n",
       "    <tr>\n",
       "      <th>4</th>\n",
       "      <td>5</td>\n",
       "      <td>18</td>\n",
       "      <td>883</td>\n",
       "      <td>156</td>\n",
       "      <td>1</td>\n",
       "      <td>credit_card</td>\n",
       "      <td>2017-03-01 4:35:11</td>\n",
       "    </tr>\n",
       "  </tbody>\n",
       "</table>\n",
       "</div>"
      ],
      "text/plain": [
       "   order_id  shop_id  user_id  order_amount  total_items payment_method  \\\n",
       "0         1       53      746           224            2           cash   \n",
       "1         2       92      925            90            1           cash   \n",
       "2         3       44      861           144            1           cash   \n",
       "3         4       18      935           156            1    credit_card   \n",
       "4         5       18      883           156            1    credit_card   \n",
       "\n",
       "            created_at  \n",
       "0  2017-03-13 12:36:56  \n",
       "1  2017-03-03 17:38:52  \n",
       "2   2017-03-14 4:23:56  \n",
       "3  2017-03-26 12:43:37  \n",
       "4   2017-03-01 4:35:11  "
      ]
     },
     "execution_count": 299,
     "metadata": {},
     "output_type": "execute_result"
    }
   ],
   "source": [
    "data = pd.read_csv('2019 Winter Data Science Intern Challenge Data Set.csv')\n",
    "data.head()"
   ]
  },
  {
   "cell_type": "markdown",
   "id": "068f5ea6",
   "metadata": {},
   "source": [
    "Identify the columns"
   ]
  },
  {
   "cell_type": "code",
   "execution_count": 300,
   "id": "158d50a7",
   "metadata": {},
   "outputs": [
    {
     "data": {
      "text/plain": [
       "Index(['order_id', 'shop_id', 'user_id', 'order_amount', 'total_items',\n",
       "       'payment_method', 'created_at'],\n",
       "      dtype='object')"
      ]
     },
     "execution_count": 300,
     "metadata": {},
     "output_type": "execute_result"
    }
   ],
   "source": [
    "data.columns"
   ]
  },
  {
   "cell_type": "markdown",
   "id": "005119c9",
   "metadata": {},
   "source": [
    " "
   ]
  },
  {
   "cell_type": "markdown",
   "id": "76d7d7a6",
   "metadata": {},
   "source": [
    "First we need to know the main descriptive statistical values of the data set"
   ]
  },
  {
   "cell_type": "code",
   "execution_count": 301,
   "id": "10d11c53",
   "metadata": {},
   "outputs": [
    {
     "data": {
      "text/plain": [
       "count      5000.000000\n",
       "mean       3145.128000\n",
       "std       41282.539349\n",
       "min          90.000000\n",
       "25%         163.000000\n",
       "50%         284.000000\n",
       "75%         390.000000\n",
       "max      704000.000000\n",
       "Name: order_amount, dtype: float64"
      ]
     },
     "execution_count": 301,
     "metadata": {},
     "output_type": "execute_result"
    }
   ],
   "source": [
    "data['order_amount'].describe()"
   ]
  },
  {
   "cell_type": "markdown",
   "id": "254a2e51",
   "metadata": {},
   "source": [
    "Knowing that these values are for sneakers, the min, amd 25%->75% IQR values seem normal. But the mean, standard deviation, and max are way too high."
   ]
  },
  {
   "cell_type": "markdown",
   "id": "d0c7b9a9",
   "metadata": {},
   "source": [
    " "
   ]
  },
  {
   "cell_type": "markdown",
   "id": "19558443",
   "metadata": {},
   "source": [
    "Before inspecting the data, it might prove useuful to visualize it and find out if the abnormal values are visible. Doing so, we may get a better clue as to how the AOV is being impacted, and guide the analysis methodology."
   ]
  },
  {
   "cell_type": "code",
   "execution_count": 302,
   "id": "f826ab22",
   "metadata": {},
   "outputs": [
    {
     "data": {
      "text/plain": [
       "Text(0, 0.5, 'Order Amount ($)')"
      ]
     },
     "execution_count": 302,
     "metadata": {},
     "output_type": "execute_result"
    },
    {
     "data": {
      "image/png": "[encoded data removed]",
      "text/plain": [
       "<Figure size 432x288 with 1 Axes>"
      ]
     },
     "metadata": {
      "needs_background": "light"
     },
     "output_type": "display_data"
    }
   ],
   "source": [
    "data_plot = data.groupby('order_id')['order_amount'].agg(['sum']).reset_index()\n",
    "plt.plot(data_plot['order_id'], data_plot['sum'], 'o')\n",
    "plt.ylabel('Order Amount ($)')"
   ]
  },
  {
   "cell_type": "markdown",
   "id": "c00ea796",
   "metadata": {},
   "source": [
    "The majority of the transactions fit along the blue line at the bottom of the plot, and they correspond to shoe values of anywhere from 90 dollars to possibly thousand(s) dollars, though nowhere near the extreme value of 700000 dollars which are scattered near the top. The gap between the the solid line and the outliers is huge, which does help explain why AOV could be so high."
   ]
  },
  {
   "cell_type": "markdown",
   "id": "4176e99c",
   "metadata": {},
   "source": [
    " "
   ]
  },
  {
   "cell_type": "code",
   "execution_count": 303,
   "id": "7aa089d3",
   "metadata": {},
   "outputs": [
    {
     "data": {
      "text/plain": [
       "1       1830\n",
       "2       1832\n",
       "3        941\n",
       "4        293\n",
       "5         77\n",
       "6          9\n",
       "8          1\n",
       "2000      17\n",
       "Name: total_items, dtype: int64"
      ]
     },
     "execution_count": 303,
     "metadata": {},
     "output_type": "execute_result"
    }
   ],
   "source": [
    "# Number of occurences for total item counts\n",
    "data['total_items'].value_counts().sort_index()"
   ]
  },
  {
   "cell_type": "markdown",
   "id": "733cddeb",
   "metadata": {},
   "source": [
    "We take the maximum value of the order_amount column, and using that we can see if there are any patterns/repetitions within the columns for the maximum value. This can also help us identify what to look out for when dealing with the other lower valued outliers."
   ]
  },
  {
   "cell_type": "code",
   "execution_count": 304,
   "id": "3df1c4b7",
   "metadata": {},
   "outputs": [
    {
     "name": "stdout",
     "output_type": "stream",
     "text": [
      "      order_id  shop_id  user_id  order_amount  total_items payment_method  \\\n",
      "15          16       42      607        704000         2000    credit_card   \n",
      "60          61       42      607        704000         2000    credit_card   \n",
      "520        521       42      607        704000         2000    credit_card   \n",
      "1104      1105       42      607        704000         2000    credit_card   \n",
      "1362      1363       42      607        704000         2000    credit_card   \n",
      "1436      1437       42      607        704000         2000    credit_card   \n",
      "1562      1563       42      607        704000         2000    credit_card   \n",
      "1602      1603       42      607        704000         2000    credit_card   \n",
      "2153      2154       42      607        704000         2000    credit_card   \n",
      "2297      2298       42      607        704000         2000    credit_card   \n",
      "2835      2836       42      607        704000         2000    credit_card   \n",
      "2969      2970       42      607        704000         2000    credit_card   \n",
      "3332      3333       42      607        704000         2000    credit_card   \n",
      "4056      4057       42      607        704000         2000    credit_card   \n",
      "4646      4647       42      607        704000         2000    credit_card   \n",
      "4868      4869       42      607        704000         2000    credit_card   \n",
      "4882      4883       42      607        704000         2000    credit_card   \n",
      "\n",
      "              created_at  \n",
      "15    2017-03-07 4:00:00  \n",
      "60    2017-03-04 4:00:00  \n",
      "520   2017-03-02 4:00:00  \n",
      "1104  2017-03-24 4:00:00  \n",
      "1362  2017-03-15 4:00:00  \n",
      "1436  2017-03-11 4:00:00  \n",
      "1562  2017-03-19 4:00:00  \n",
      "1602  2017-03-17 4:00:00  \n",
      "2153  2017-03-12 4:00:00  \n",
      "2297  2017-03-07 4:00:00  \n",
      "2835  2017-03-28 4:00:00  \n",
      "2969  2017-03-28 4:00:00  \n",
      "3332  2017-03-24 4:00:00  \n",
      "4056  2017-03-28 4:00:00  \n",
      "4646  2017-03-02 4:00:00  \n",
      "4868  2017-03-22 4:00:00  \n",
      "4882  2017-03-25 4:00:00  \n"
     ]
    }
   ],
   "source": [
    "max_order_amount=data['order_amount'].max()\n",
    "skewedData = data.loc[data['order_amount'] == max_order_amount]\n",
    "print(skewedData)"
   ]
  },
  {
   "cell_type": "markdown",
   "id": "aedce578",
   "metadata": {},
   "source": [
    "Notice how all of the transactions for the maximum order amount (704000), have their total items always equal to 2000, and the shop_id and user_id are consistently the same (42 and 607 respectively). Also, though the created_at dates have different date values, they all occur at the same time of 4:00:000, and many being processed twice on the same day at the same time. That is too precise of a time to be manually created, so it would make more sense that this was entirely automated, probably for buying in bulk."
   ]
  },
  {
   "cell_type": "markdown",
   "id": "4a4f41a9",
   "metadata": {},
   "source": [
    " "
   ]
  },
  {
   "cell_type": "markdown",
   "id": "2e289f05",
   "metadata": {},
   "source": [
    "Now, we need to find out how how many other outliers there are besides the transactions with order amounts of 704000 dollars.\n",
    "We have seen what they visually look like in the plot above, but it would help to also know the number of occurrences for each order_amount. For our purposes, the top 20 should be sufficient."
   ]
  },
  {
   "cell_type": "code",
   "execution_count": 310,
   "id": "18e0e03d",
   "metadata": {},
   "outputs": [],
   "source": [
    "occurrences = data.groupby(['order_amount']).size()\n",
    "outliers = occurrences.reset_index(name='Number of Occurrences').sort_values(by='order_amount', ascending = False)"
   ]
  },
  {
   "cell_type": "code",
   "execution_count": 311,
   "id": "cdfff68f",
   "metadata": {},
   "outputs": [
    {
     "data": {
      "text/html": [
       "<div>\n",
       "<style scoped>\n",
       "    .dataframe tbody tr th:only-of-type {\n",
       "        vertical-align: middle;\n",
       "    }\n",
       "\n",
       "    .dataframe tbody tr th {\n",
       "        vertical-align: top;\n",
       "    }\n",
       "\n",
       "    .dataframe thead th {\n",
       "        text-align: right;\n",
       "    }\n",
       "</style>\n",
       "<table border=\"1\" class=\"dataframe\">\n",
       "  <thead>\n",
       "    <tr style=\"text-align: right;\">\n",
       "      <th></th>\n",
       "      <th>order_amount</th>\n",
       "      <th>Number of Occurrences</th>\n",
       "    </tr>\n",
       "  </thead>\n",
       "  <tbody>\n",
       "    <tr>\n",
       "      <th>257</th>\n",
       "      <td>704000</td>\n",
       "      <td>17</td>\n",
       "    </tr>\n",
       "    <tr>\n",
       "      <th>256</th>\n",
       "      <td>154350</td>\n",
       "      <td>1</td>\n",
       "    </tr>\n",
       "    <tr>\n",
       "      <th>255</th>\n",
       "      <td>102900</td>\n",
       "      <td>1</td>\n",
       "    </tr>\n",
       "    <tr>\n",
       "      <th>254</th>\n",
       "      <td>77175</td>\n",
       "      <td>9</td>\n",
       "    </tr>\n",
       "    <tr>\n",
       "      <th>253</th>\n",
       "      <td>51450</td>\n",
       "      <td>16</td>\n",
       "    </tr>\n",
       "    <tr>\n",
       "      <th>252</th>\n",
       "      <td>25725</td>\n",
       "      <td>19</td>\n",
       "    </tr>\n",
       "    <tr>\n",
       "      <th>251</th>\n",
       "      <td>1760</td>\n",
       "      <td>1</td>\n",
       "    </tr>\n",
       "    <tr>\n",
       "      <th>250</th>\n",
       "      <td>1408</td>\n",
       "      <td>2</td>\n",
       "    </tr>\n",
       "    <tr>\n",
       "      <th>249</th>\n",
       "      <td>1086</td>\n",
       "      <td>1</td>\n",
       "    </tr>\n",
       "    <tr>\n",
       "      <th>248</th>\n",
       "      <td>1064</td>\n",
       "      <td>1</td>\n",
       "    </tr>\n",
       "    <tr>\n",
       "      <th>247</th>\n",
       "      <td>1056</td>\n",
       "      <td>3</td>\n",
       "    </tr>\n",
       "    <tr>\n",
       "      <th>246</th>\n",
       "      <td>980</td>\n",
       "      <td>1</td>\n",
       "    </tr>\n",
       "    <tr>\n",
       "      <th>245</th>\n",
       "      <td>965</td>\n",
       "      <td>1</td>\n",
       "    </tr>\n",
       "    <tr>\n",
       "      <th>244</th>\n",
       "      <td>960</td>\n",
       "      <td>2</td>\n",
       "    </tr>\n",
       "    <tr>\n",
       "      <th>243</th>\n",
       "      <td>948</td>\n",
       "      <td>1</td>\n",
       "    </tr>\n",
       "    <tr>\n",
       "      <th>242</th>\n",
       "      <td>935</td>\n",
       "      <td>3</td>\n",
       "    </tr>\n",
       "    <tr>\n",
       "      <th>241</th>\n",
       "      <td>920</td>\n",
       "      <td>1</td>\n",
       "    </tr>\n",
       "    <tr>\n",
       "      <th>240</th>\n",
       "      <td>890</td>\n",
       "      <td>1</td>\n",
       "    </tr>\n",
       "    <tr>\n",
       "      <th>239</th>\n",
       "      <td>885</td>\n",
       "      <td>2</td>\n",
       "    </tr>\n",
       "    <tr>\n",
       "      <th>238</th>\n",
       "      <td>880</td>\n",
       "      <td>3</td>\n",
       "    </tr>\n",
       "  </tbody>\n",
       "</table>\n",
       "</div>"
      ],
      "text/plain": [
       "     order_amount  Number of Occurrences\n",
       "257        704000                     17\n",
       "256        154350                      1\n",
       "255        102900                      1\n",
       "254         77175                      9\n",
       "253         51450                     16\n",
       "252         25725                     19\n",
       "251          1760                      1\n",
       "250          1408                      2\n",
       "249          1086                      1\n",
       "248          1064                      1\n",
       "247          1056                      3\n",
       "246           980                      1\n",
       "245           965                      1\n",
       "244           960                      2\n",
       "243           948                      1\n",
       "242           935                      3\n",
       "241           920                      1\n",
       "240           890                      1\n",
       "239           885                      2\n",
       "238           880                      3"
      ]
     },
     "execution_count": 311,
     "metadata": {},
     "output_type": "execute_result"
    }
   ],
   "source": [
    "outlier_values.head(20)"
   ]
  },
  {
   "cell_type": "markdown",
   "id": "d338668c",
   "metadata": {},
   "source": [
    "We can now clearly identify where the outliers are and how they are spread with their number of occurrences in the data set. 704000, 77175, 51450, 25725 are the values that both have the highest amount and the most occurrences, and this paints a better picture of what caused the AOV skew so much."
   ]
  },
  {
   "cell_type": "markdown",
   "id": "f4b1d6a1",
   "metadata": {},
   "source": [
    " "
   ]
  },
  {
   "cell_type": "markdown",
   "id": "29f63f0e",
   "metadata": {},
   "source": [
    "Now that we know exactly which order amounts are causing the isssues, we can take those 4 values to find additional patterns based on their shop_id, user_id, total_items, etc."
   ]
  },
  {
   "cell_type": "code",
   "execution_count": 314,
   "id": "8e891a21",
   "metadata": {
    "scrolled": true
   },
   "outputs": [
    {
     "data": {
      "text/html": [
       "<div>\n",
       "<style scoped>\n",
       "    .dataframe tbody tr th:only-of-type {\n",
       "        vertical-align: middle;\n",
       "    }\n",
       "\n",
       "    .dataframe tbody tr th {\n",
       "        vertical-align: top;\n",
       "    }\n",
       "\n",
       "    .dataframe thead th {\n",
       "        text-align: right;\n",
       "    }\n",
       "</style>\n",
       "<table border=\"1\" class=\"dataframe\">\n",
       "  <thead>\n",
       "    <tr style=\"text-align: right;\">\n",
       "      <th></th>\n",
       "      <th>order_id</th>\n",
       "      <th>shop_id</th>\n",
       "      <th>user_id</th>\n",
       "      <th>order_amount</th>\n",
       "      <th>total_items</th>\n",
       "      <th>payment_method</th>\n",
       "      <th>created_at</th>\n",
       "    </tr>\n",
       "  </thead>\n",
       "  <tbody>\n",
       "    <tr>\n",
       "      <th>15</th>\n",
       "      <td>16</td>\n",
       "      <td>42</td>\n",
       "      <td>607</td>\n",
       "      <td>704000</td>\n",
       "      <td>2000</td>\n",
       "      <td>credit_card</td>\n",
       "      <td>2017-03-07 4:00:00</td>\n",
       "    </tr>\n",
       "    <tr>\n",
       "      <th>1362</th>\n",
       "      <td>1363</td>\n",
       "      <td>42</td>\n",
       "      <td>607</td>\n",
       "      <td>704000</td>\n",
       "      <td>2000</td>\n",
       "      <td>credit_card</td>\n",
       "      <td>2017-03-15 4:00:00</td>\n",
       "    </tr>\n",
       "    <tr>\n",
       "      <th>3332</th>\n",
       "      <td>3333</td>\n",
       "      <td>42</td>\n",
       "      <td>607</td>\n",
       "      <td>704000</td>\n",
       "      <td>2000</td>\n",
       "      <td>credit_card</td>\n",
       "      <td>2017-03-24 4:00:00</td>\n",
       "    </tr>\n",
       "    <tr>\n",
       "      <th>4056</th>\n",
       "      <td>4057</td>\n",
       "      <td>42</td>\n",
       "      <td>607</td>\n",
       "      <td>704000</td>\n",
       "      <td>2000</td>\n",
       "      <td>credit_card</td>\n",
       "      <td>2017-03-28 4:00:00</td>\n",
       "    </tr>\n",
       "    <tr>\n",
       "      <th>2969</th>\n",
       "      <td>2970</td>\n",
       "      <td>42</td>\n",
       "      <td>607</td>\n",
       "      <td>704000</td>\n",
       "      <td>2000</td>\n",
       "      <td>credit_card</td>\n",
       "      <td>2017-03-28 4:00:00</td>\n",
       "    </tr>\n",
       "    <tr>\n",
       "      <th>...</th>\n",
       "      <td>...</td>\n",
       "      <td>...</td>\n",
       "      <td>...</td>\n",
       "      <td>...</td>\n",
       "      <td>...</td>\n",
       "      <td>...</td>\n",
       "      <td>...</td>\n",
       "    </tr>\n",
       "    <tr>\n",
       "      <th>1204</th>\n",
       "      <td>1205</td>\n",
       "      <td>78</td>\n",
       "      <td>970</td>\n",
       "      <td>25725</td>\n",
       "      <td>1</td>\n",
       "      <td>credit_card</td>\n",
       "      <td>2017-03-17 22:32:21</td>\n",
       "    </tr>\n",
       "    <tr>\n",
       "      <th>1193</th>\n",
       "      <td>1194</td>\n",
       "      <td>78</td>\n",
       "      <td>944</td>\n",
       "      <td>25725</td>\n",
       "      <td>1</td>\n",
       "      <td>debit</td>\n",
       "      <td>2017-03-16 16:38:26</td>\n",
       "    </tr>\n",
       "    <tr>\n",
       "      <th>1056</th>\n",
       "      <td>1057</td>\n",
       "      <td>78</td>\n",
       "      <td>800</td>\n",
       "      <td>25725</td>\n",
       "      <td>1</td>\n",
       "      <td>debit</td>\n",
       "      <td>2017-03-15 10:16:45</td>\n",
       "    </tr>\n",
       "    <tr>\n",
       "      <th>160</th>\n",
       "      <td>161</td>\n",
       "      <td>78</td>\n",
       "      <td>990</td>\n",
       "      <td>25725</td>\n",
       "      <td>1</td>\n",
       "      <td>credit_card</td>\n",
       "      <td>2017-03-12 5:56:57</td>\n",
       "    </tr>\n",
       "    <tr>\n",
       "      <th>4918</th>\n",
       "      <td>4919</td>\n",
       "      <td>78</td>\n",
       "      <td>823</td>\n",
       "      <td>25725</td>\n",
       "      <td>1</td>\n",
       "      <td>cash</td>\n",
       "      <td>2017-03-15 13:26:46</td>\n",
       "    </tr>\n",
       "  </tbody>\n",
       "</table>\n",
       "<p>61 rows × 7 columns</p>\n",
       "</div>"
      ],
      "text/plain": [
       "      order_id  shop_id  user_id  order_amount  total_items payment_method  \\\n",
       "15          16       42      607        704000         2000    credit_card   \n",
       "1362      1363       42      607        704000         2000    credit_card   \n",
       "3332      3333       42      607        704000         2000    credit_card   \n",
       "4056      4057       42      607        704000         2000    credit_card   \n",
       "2969      2970       42      607        704000         2000    credit_card   \n",
       "...        ...      ...      ...           ...          ...            ...   \n",
       "1204      1205       78      970         25725            1    credit_card   \n",
       "1193      1194       78      944         25725            1          debit   \n",
       "1056      1057       78      800         25725            1          debit   \n",
       "160        161       78      990         25725            1    credit_card   \n",
       "4918      4919       78      823         25725            1           cash   \n",
       "\n",
       "               created_at  \n",
       "15     2017-03-07 4:00:00  \n",
       "1362   2017-03-15 4:00:00  \n",
       "3332   2017-03-24 4:00:00  \n",
       "4056   2017-03-28 4:00:00  \n",
       "2969   2017-03-28 4:00:00  \n",
       "...                   ...  \n",
       "1204  2017-03-17 22:32:21  \n",
       "1193  2017-03-16 16:38:26  \n",
       "1056  2017-03-15 10:16:45  \n",
       "160    2017-03-12 5:56:57  \n",
       "4918  2017-03-15 13:26:46  \n",
       "\n",
       "[61 rows x 7 columns]"
      ]
     },
     "execution_count": 314,
     "metadata": {},
     "output_type": "execute_result"
    }
   ],
   "source": [
    "high_orders = data.loc[data['order_amount'].isin([704000, 77175, 51450, 25725])]\n",
    "high_orders.sort_values(by='order_amount', ascending = False)"
   ]
  },
  {
   "cell_type": "markdown",
   "id": "0fec9e8d",
   "metadata": {},
   "source": [
    "##### Question 1) a) \n",
    "To summarize, the initial inspection raised some red flags, namely due to the mean of ~3145.128, the standard deviation of ~41282.539, as well as the max order of 704000. They were all way to high given the context of the data (i.e. shoes).\n",
    "\n",
    "The \"AOV\" (Averge Order Value) appears to simply be the mean amount (~3145), which indicates a lack of consideration for the quantity of purches per transactions. The standard deviation and max order values being wildly abnormal are clearly observed when a scatter plot is drawn. \n",
    "\n",
    "The cause for this level of disparity can be explained: first, there are high transaction occurrences for the order amounts of 704000, 77175, 51450, 25725 (17, 9, 16, and 19 times respectively). Second, the 17 indentical transactions for 704000 amount included 2000 purchases each, which could certainly raise the AOV. This most likely is due to automated bulk ordering/buying. Finally, the other 3 out of 4 order amounts are all multiples of \"25752\", and all have the same shop_id of 78. This could be due to a simple mistake, or it could warrant further inspection to determine fraudulence.\n",
    "\n",
    "##### Question 1) b)\n",
    "Given so many outliers that will affect a metric such as \"mean\", the most suitable one would be to use \"median\"."
   ]
  },
  {
   "cell_type": "code",
   "execution_count": 313,
   "id": "07755ef8",
   "metadata": {},
   "outputs": [
    {
     "data": {
      "text/plain": [
       "284.0"
      ]
     },
     "execution_count": 313,
     "metadata": {},
     "output_type": "execute_result"
    }
   ],
   "source": [
    "data.loc[:, 'order_amount'].median()"
   ]
  },
  {
   "cell_type": "markdown",
   "id": "692c4087",
   "metadata": {},
   "source": [
    "##### Question 1) c) \n",
    "Thus, the median value is 284.00, which will better represent the products."
   ]
  },
  {
   "cell_type": "markdown",
   "id": "bd1610f2",
   "metadata": {},
   "source": [
    "---"
   ]
  },
  {
   "cell_type": "markdown",
   "id": "0a5f4cc7",
   "metadata": {},
   "source": [
    "# QUESTION 2"
   ]
  },
  {
   "cell_type": "markdown",
   "id": "2739a91a",
   "metadata": {},
   "source": [
    "##### Question 2) a)\n",
    "\n",
    "SELECT COUNT(*) AS NUM_OF_ODERS\n",
    "\n",
    "FROM Orders O \n",
    "\n",
    "JOIN Shippers S ON O.ShipperID = S.ShipperID\n",
    "\n",
    "WHERE S.ShipperName = 'Speedy Express'\n",
    "\n",
    "#### Result: 54 orders"
   ]
  },
  {
   "cell_type": "markdown",
   "id": "6ac68798",
   "metadata": {},
   "source": [
    "##### Question 2) b)\n",
    "\n",
    "SELECT EMP.LastName, COUNT(*) AS NUM_OF_ODERS\n",
    "\n",
    "FROM Employees EMP \n",
    "\n",
    "JOIN Orders O ON EMP.EmployeeID = O.EmployeeID\n",
    "\n",
    "GROUP BY EMP.LastName\n",
    "\n",
    "ORDER BY NUM_OF_ODERS DESC\n",
    "\n",
    "LIMIT 1;\n",
    "\n",
    "#### Result: Last Name: Peacock, 40 orders"
   ]
  },
  {
   "cell_type": "markdown",
   "id": "86238445",
   "metadata": {},
   "source": [
    "##### Question 2) c)\n",
    "\n",
    "SELECT P.ProductID, P.productName, SUM(OD.Quantity) AS TOTAL_QUANTITY\n",
    "\n",
    "FROM OrderDetails OD \n",
    "\n",
    "JOIN Orders O ON OD.OrderID = O.orderID\n",
    "\n",
    "JOIN Products P ON P.productID = OD.productID\n",
    "\n",
    "JOIN Customers c ON O.CustomerID = C.CustomerID\n",
    "\n",
    "WHERE c.Country = 'Germany'\n",
    "\n",
    "GROUP BY P.productID\n",
    "\n",
    "ORDER BY TOTAL_QUANTITY DESC\n",
    "\n",
    "LIMIT 1;\n",
    "\n",
    "#### Result: ProductID:40, Product Name: Boston Crab Meat, 160 total ordered"
   ]
  }
 ],
 "metadata": {
  "kernelspec": {
   "display_name": "Python 3",
   "language": "python",
   "name": "python3"
  },
  "language_info": {
   "codemirror_mode": {
    "name": "ipython",
    "version": 3
   },
   "file_extension": ".py",
   "mimetype": "text/x-python",
   "name": "python",
   "nbconvert_exporter": "python",
   "pygments_lexer": "ipython3",
   "version": "3.8.8"
  }
 },
 "nbformat": 4,
 "nbformat_minor": 5
}
